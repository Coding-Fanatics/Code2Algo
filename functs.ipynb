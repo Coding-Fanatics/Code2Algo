{
 "cells": [
  {
   "cell_type": "code",
   "execution_count": 7,
   "metadata": {},
   "outputs": [
    {
     "name": "stdout",
     "output_type": "stream",
     "text": [
      "a greater than  b and c < f\n",
      "a > b and c less than  f\n"
     ]
    }
   ],
   "source": [
    "a = \"a > b and c < f\"\n",
    "b = a.split(\">\")\n",
    "c = \"greater than \".join(b)\n",
    "d = a.split(\"<\")\n",
    "e = \"less than \".join(d)\n",
    "print(c)\n",
    "print(e)"
   ]
  },
  {
   "cell_type": "code",
   "execution_count": null,
   "metadata": {},
   "outputs": [],
   "source": []
  }
 ],
 "metadata": {
  "kernelspec": {
   "display_name": "Python 3.9.5 64-bit",
   "language": "python",
   "name": "python3"
  },
  "language_info": {
   "codemirror_mode": {
    "name": "ipython",
    "version": 3
   },
   "file_extension": ".py",
   "mimetype": "text/x-python",
   "name": "python",
   "nbconvert_exporter": "python",
   "pygments_lexer": "ipython3",
   "version": "3.9.5"
  },
  "orig_nbformat": 4,
  "vscode": {
   "interpreter": {
    "hash": "a03c00cd90ff7f386b865d3be61500a338b6b15a4e24e06ba98453dc38e822c0"
   }
  }
 },
 "nbformat": 4,
 "nbformat_minor": 2
}
